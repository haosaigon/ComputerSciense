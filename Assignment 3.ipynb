{
 "cells": [
  {
   "cell_type": "markdown",
   "id": "2e89ebb2",
   "metadata": {},
   "source": [
    "# Assignment 3\n",
    "# 29 Sep. 2022\n",
    "## Hao Nguyen Tan"
   ]
  },
  {
   "cell_type": "code",
   "execution_count": 2,
   "id": "93c22013",
   "metadata": {},
   "outputs": [
    {
     "data": {
      "text/plain": [
       "6"
      ]
     },
     "execution_count": 2,
     "metadata": {},
     "output_type": "execute_result"
    }
   ],
   "source": [
    "#1 Lamda expression\n",
    "X = lambda num1, num2: num1*num2\n",
    "X(2,3)"
   ]
  },
  {
   "cell_type": "code",
   "execution_count": 8,
   "id": "a25be573",
   "metadata": {},
   "outputs": [
    {
     "name": "stdout",
     "output_type": "stream",
     "text": [
      "314.1592653589793\n"
     ]
    }
   ],
   "source": [
    "#2 Area of circle\n",
    "from math import pi\n",
    "def area (r):\n",
    "    return pi*r**2\n",
    "print(area(10))"
   ]
  },
  {
   "cell_type": "code",
   "execution_count": 27,
   "id": "ba293d5c",
   "metadata": {},
   "outputs": [
    {
     "name": "stdout",
     "output_type": "stream",
     "text": [
      "50\n"
     ]
    }
   ],
   "source": [
    "#4 Area of Rectangle\n",
    "class Rectangle:\n",
    "    def __init__(self, width, length):\n",
    "        self.length = length\n",
    "        self.width = width  \n",
    "    def area(self):  \n",
    "        return (self.width * self.length)\n",
    "r = Rectangle(5, 10)\n",
    "print(r.area())"
   ]
  },
  {
   "cell_type": "code",
   "execution_count": null,
   "id": "86bbd821",
   "metadata": {},
   "outputs": [],
   "source": []
  }
 ],
 "metadata": {
  "kernelspec": {
   "display_name": "Python 3 (ipykernel)",
   "language": "python",
   "name": "python3"
  },
  "language_info": {
   "codemirror_mode": {
    "name": "ipython",
    "version": 3
   },
   "file_extension": ".py",
   "mimetype": "text/x-python",
   "name": "python",
   "nbconvert_exporter": "python",
   "pygments_lexer": "ipython3",
   "version": "3.9.12"
  }
 },
 "nbformat": 4,
 "nbformat_minor": 5
}
